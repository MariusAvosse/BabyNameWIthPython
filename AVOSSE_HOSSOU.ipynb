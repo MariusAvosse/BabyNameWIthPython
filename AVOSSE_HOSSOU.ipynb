{
 "cells": [
  {
   "cell_type": "raw",
   "metadata": {},
   "source": [
    "---\n",
    "title: \"Homework 1 (2023): Data Wrangling and Visualization\"\n",
    "subtitle: \"Due date : 2023-02-24 23:55 (this is a hard deadline)\"\n",
    "author: \"Lagarde et Michard\"\n",
    "date: \"2023-02-24\"\n",
    "format:\n",
    "    html:\n",
    "        code-fold: true\n",
    "---"
   ]
  },
  {
   "cell_type": "markdown",
   "metadata": {
    "nteract": {
     "transient": {
      "deleting": false
     }
    }
   },
   "source": [
    "# Homework 1 \n",
    "\n",
    "Due date : **2023-02-24 @23h55** (this is a **hard deadline**)"
   ]
  },
  {
   "cell_type": "markdown",
   "metadata": {
    "nteract": {
     "transient": {
      "deleting": false
     }
    }
   },
   "source": [
    "## Fill this cell with your names\n",
    "\n",
    "- AVOSSE, Yaovi Ametepé,   Informatique/DATA\n",
    "- HOSSOU, Edouard Patrick, Informatique/MPRI"
   ]
  },
  {
   "cell_type": "markdown",
   "metadata": {
    "nteract": {
     "transient": {
      "deleting": false
     }
    }
   },
   "source": [
    "## Carefully follow instructions\n",
    "\n",
    "**If you don't: no evaluation!**\n",
    "\n",
    "Write in English or French\n",
    "\n",
    "The deliverable is a file\n",
    "\n",
    "- `xxx_yyy.ipynb` file (jupyter notebook) or \n",
    "- `xxx_yyy.py` file (if you are using `jupytext`) or\n",
    "- `xxx_yyy.qmd` file (if you are using `quarto`)\n",
    "\n",
    "where `xxx` and `yyy` are your names, for example `lagarde_michard.ipynb`. \n",
    "\n",
    "The deliverable is not meant to contain cell outputs.  \n",
    "\n",
    "The data files used to execute cells are meant to sit in the same directory as the deliverable. Use relative filepaths or urls to denote the data files.   \n",
    "\n",
    "We **will** execute the code in your notebook: make sure that running all the cells works well. \n",
    "\n"
   ]
  },
  {
   "cell_type": "markdown",
   "metadata": {
    "nteract": {
     "transient": {
      "deleting": false
     }
    }
   },
   "source": [
    "## Grading <i class=\"fa graduation-cap\"></i>\n",
    "\n",
    "Here is the way we'll assess your work\n",
    "\n",
    "| Criterion | Points | Details |\n",
    "|:----------|:-------:|:----|\n",
    "|Spelling and syntax | 3 | English/French  |\n",
    "|Plots correction | 3 |  Clarity / answers the question  |\n",
    "|Plot style and cleanliness | 3 | Titles, legends, labels, breaks ... |\n",
    "|Table wrangling | 4 | ETL, SQL like manipulations |\n",
    "|Computing Statistics | 5 | SQL `goup by`  and aggregation  |\n",
    "|DRY compliance | 2 | DRY principle at [Wikipedia](https://en.wikipedia.org/wiki/Don%27t_repeat_yourself)|\n",
    "\n",
    "If we see a single (or more) `for` loop in your code: **-5 points**.  Everything can be done using high-level `pandas` methods"
   ]
  },
  {
   "cell_type": "markdown",
   "metadata": {
    "nteract": {
     "transient": {
      "deleting": false
     }
    }
   },
   "source": [
    "# Preliminaries\n",
    "\n",
    "## Notebooks: Modus operandi\n",
    "\n",
    "- This is a [Jupyter Notebook](https://jupyter.org).\n",
    "- When you execute code within the notebook, the results appear beneath the code.\n",
    "- [Jupytext](https://github.com/mwouts/jupytext)\n",
    "- [Quarto](https://quarto.org) \n",
    "\n",
    "## Packages\n",
    "\n",
    "- Base `Python` can do a lot. But the full power of `Python` comes from a fast growing collection of `packages`/`modules`.\n",
    "\n",
    "- Packages are first installed (that is using `pip install` or `conda install`), and if\n",
    "needed, imported during a session.\n",
    "\n",
    "- The `docker` image you are supposed to use already offers a lot of packages. You should not need to install new packages.\n",
    "\n",
    "- Once a package has been installed on your drive, if you want all objects exported by the package to be available in your session, you should import the package, using `from pkg import *`.\n",
    "\n",
    "- If you just want to pick some subjects from the package,\n",
    "you can use qualified names like `pkg.object_name` to access the object (function, dataset, class...)\n"
   ]
  },
  {
   "cell_type": "code",
   "execution_count": null,
   "metadata": {
    "ExecuteTime": {
     "end_time": "2021-02-03T09:49:19.662376Z",
     "start_time": "2021-02-03T09:49:19.659057Z"
    },
    "jupyter": {
     "outputs_hidden": false,
     "source_hidden": false
    },
    "nteract": {
     "transient": {
      "deleting": false
     }
    }
   },
   "outputs": [],
   "source": [
    "# importing basic tools\n",
    "import numpy as np\n",
    "import pandas as pd\n",
    "\n",
    "from pandas.api.types import CategoricalDtype\n",
    "\n",
    "import os            # file operations\n",
    "import requests      # networking\n",
    "import zipfile\n",
    "import io\n",
    "from pathlib import Path\n",
    "\n",
    "from datetime import date  # if needed\n",
    "\n",
    "\n"
   ]
  },
  {
   "cell_type": "code",
   "execution_count": null,
   "metadata": {
    "ExecuteTime": {
     "end_time": "2021-02-03T09:49:21.139505Z",
     "start_time": "2021-02-03T09:49:21.136745Z"
    },
    "jupyter": {
     "outputs_hidden": false,
     "source_hidden": false
    },
    "nteract": {
     "transient": {
      "deleting": false
     }
    }
   },
   "outputs": [],
   "source": [
    "# importing plotting packages\n",
    "import plotly.graph_objects as go\n",
    "import plotly.express as px\n",
    "import plotly.io as pio"
   ]
  },
  {
   "cell_type": "code",
   "execution_count": null,
   "metadata": {
    "ExecuteTime": {
     "end_time": "2021-02-03T09:56:45.103619Z",
     "start_time": "2021-02-03T09:56:45.099259Z"
    },
    "jupyter": {
     "outputs_hidden": false,
     "source_hidden": false
    },
    "nteract": {
     "transient": {
      "deleting": false
     }
    }
   },
   "outputs": [],
   "source": [
    "# make pandas plotly-friendly\n",
    "np.set_printoptions(precision=2, suppress=True)\n",
    "%matplotlib inline\n",
    "pd.options.plotting.backend = \"plotly\""
   ]
  },
  {
   "cell_type": "markdown",
   "metadata": {
    "nteract": {
     "transient": {
      "deleting": false
     }
    }
   },
   "source": [
    "# Getting the data\n",
    "\n",
    "## French data\n",
    "\n",
    "The French data are built and made available by [INSEE](https://www.insee.fr/fr/accueil)  (French Governement Statistics Institute)\n",
    "\n",
    "Prénoms:\n",
    "- [https://www.insee.fr/fr/statistiques/fichier/2540004/nat2021_csv.zip](https://www.insee.fr/fr/statistiques/fichier/2540004/nat2021_csv.zip)\n",
    "\n",
    "This dataset has been growing for a while. It has been considered by\n",
    "social scientists for decades.  Given names are meant to give insights into a variety\n",
    "of phenomena, including religious observance.\n",
    "\n",
    "- A glimpse at the body of work can be found in [_L'archipel français_ by Jérome Fourquet, Le Seuil, 2019 ](https://www.seuil.com/ouvrage/l-archipel-francais-jerome-fourquet/9782021406023)\n",
    "\n",
    "- Read the [File documentation](https://www.insee.fr/fr/statistiques/2540004?sommaire=4767262#documentation)\n",
    "\n",
    "## US data \n",
    "\n",
    "US data may be gathered from \n",
    "\n",
    "[Baby Names USA from 1910 to 2021 (SSA)](https://www.kaggle.com/datasets/donkea/ssa-names-1910-2021?resource=download)\n",
    "\n",
    "See [https://www.ssa.gov/oact/babynames/background.html](https://www.ssa.gov/oact/babynames/background.html)\n",
    "\n",
    "\n",
    "## British data \n",
    "\n",
    "English and Welsh data can be gathered from \n",
    "\n",
    "[https://www.ons.gov.uk/](https://www.ons.gov.uk/peoplepopulationandcommunity/birthsdeathsandmarriages/livebirths/datasets/babynamesinenglandandwalesfrom1996?utm_source=pocket_saves)\n",
    "\n",
    "\n",
    "\n",
    "\n",
    "## Download the French data\n",
    "\n",
    "**QUESTION:** Download the data into a file which relative path is `'./nat2021_csv.zip'`\n",
    "\n",
    "__Hints:__\n",
    "\n",
    "- Have a look at  package [`requests`](https://requests.readthedocs.io/en/master/).\n",
    "- Use magic commands to navigate across the file hierarchy and create subdirectories when needed"
   ]
  },
  {
   "cell_type": "code",
   "execution_count": null,
   "metadata": {
    "ExecuteTime": {
     "end_time": "2021-02-03T09:56:54.136172Z",
     "start_time": "2021-02-03T09:56:54.132800Z"
    },
    "jupyter": {
     "outputs_hidden": false,
     "source_hidden": false
    },
    "nteract": {
     "transient": {
      "deleting": false
     }
    }
   },
   "outputs": [],
   "source": [
    "# for French data \n",
    "\n",
    "params = dict(\n",
    "    url = 'https://www.insee.fr/fr/statistiques/fichier/2540004/nat2021_csv.zip',\n",
    "    dirpath = './',\n",
    "    timecourse = '',\n",
    "    datafile = 'nat2021.hdf',\n",
    "    fpath = 'nat2021_csv.zip'\n",
    ")"
   ]
  },
  {
   "cell_type": "code",
   "execution_count": null,
   "metadata": {
    "ExecuteTime": {
     "end_time": "2021-02-03T09:56:54.282784Z",
     "start_time": "2021-02-03T09:56:54.280062Z"
    },
    "jupyter": {
     "outputs_hidden": false,
     "source_hidden": false
    },
    "nteract": {
     "transient": {
      "deleting": false
     }
    }
   },
   "outputs": [],
   "source": [
    "wd = %pwd # work directory\n",
    "#%ls"
   ]
  },
  {
   "cell_type": "code",
   "execution_count": null,
   "metadata": {
    "ExecuteTime": {
     "end_time": "2021-02-03T09:56:54.409700Z",
     "start_time": "2021-02-03T09:56:54.406560Z"
    },
    "jupyter": {
     "outputs_hidden": false,
     "source_hidden": false
    },
    "nteract": {
     "transient": {
      "deleting": false
     }
    }
   },
   "outputs": [],
   "source": [
    "url = params['url']      # 'https://www.insee.fr/fr/statistiques/fichier/2540004/nat2021_csv.zip'\n",
    "fpath = params['fpath']  # './nat2021_csv.zip'"
   ]
  },
  {
   "cell_type": "code",
   "execution_count": null,
   "metadata": {},
   "outputs": [],
   "source": [
    "# your code here\n",
    "\n",
    "if not Path(params['fpath']).exists():\n",
    "    r = requests.get(params['url'])                # What is the type of `r` ?\n",
    "    z = zipfile.ZipFile((io.BytesIO(r.content)))   # What is the type of `z` ? \n",
    "    z.extractall(path='./')\n",
    "    print(type(r))\n",
    "    print(type(z))\n"
   ]
  },
  {
   "cell_type": "markdown",
   "metadata": {},
   "source": [
    "## Download US and British data \n",
    "\n"
   ]
  },
  {
   "cell_type": "code",
   "execution_count": null,
   "metadata": {},
   "outputs": [],
   "source": [
    "# for US data \n",
    "print('Downloading started')\n",
    "url = 'https://www.ssa.gov/oact/babynames/names.zip'\n",
    "\n",
    "# Downloading the file by sending the request to the URL\n",
    "req = requests.get(url)\n",
    " \n",
    "# Split URL to get the file name\n",
    "filename = url.split('/')[-1]\n",
    " \n",
    "# Writing the file to the local file system\n",
    "with open(filename,'wb') as output_file:\n",
    "    output_file.write(req.content)\n",
    "print('Downloading Completed')\n"
   ]
  },
  {
   "cell_type": "markdown",
   "metadata": {
    "nteract": {
     "transient": {
      "deleting": false
     }
    }
   },
   "source": [
    "## Load the French data in memory\n",
    "\n",
    "**QUESTION:** Load the data in a `pandas` `DataFrame` called `data`\n",
    "\n",
    "__Hints:__\n",
    "\n",
    "- You should obtain a `Pandas dataframe` with 4 columns.\n",
    "- Mind the conventions used to build the `csv` file.\n",
    "- Package `pandas` provides the convenient tools.\n",
    "- The dataset, though not too large, is already demanding.\n",
    "- Don't hesitate to test your methods on a sample of rows method `sample()` from class `DataFrame` can be helpful."
   ]
  },
  {
   "cell_type": "code",
   "execution_count": null,
   "metadata": {
    "ExecuteTime": {
     "end_time": "2021-02-03T09:57:18.980873Z",
     "start_time": "2021-02-03T09:57:18.978008Z"
    },
    "jupyter": {
     "outputs_hidden": false,
     "source_hidden": false
    },
    "nteract": {
     "transient": {
      "deleting": false
     }
    }
   },
   "outputs": [],
   "source": [
    "# your code here\n",
    "# for french data\n",
    "french_df = pd.read_csv(\"nat2021.csv\",sep=';', header=0, index_col = False, na_values = [\"XXXX\"])\n",
    "print(french_df)\n"
   ]
  },
  {
   "cell_type": "markdown",
   "metadata": {},
   "source": [
    "## Load US and British data in memory"
   ]
  },
  {
   "cell_type": "code",
   "execution_count": null,
   "metadata": {},
   "outputs": [],
   "source": [
    "# load US data\n",
    "zip_file = zipfile.ZipFile('names.zip')\n",
    "csv_files = [file for file in zip_file.namelist() if file.endswith('.txt')]\n",
    "dataframes = [ pd.read_csv(zip_file.open(file),\n",
    "                          names = [\"firstname\", \"gender\", \"count\"]).assign(year = pd.to_numeric(file[3:7]))\n",
    "             for file in csv_files]\n",
    "\n",
    "USA_df = pd.concat(dataframes)\n",
    "USA_df"
   ]
  },
  {
   "cell_type": "code",
   "execution_count": null,
   "metadata": {
    "nteract": {
     "transient": {
      "deleting": false
     }
    }
   },
   "outputs": [],
   "source": [
    "## Explore the data"
   ]
  },
  {
   "cell_type": "markdown",
   "metadata": {
    "nteract": {
     "transient": {
      "deleting": false
     }
    }
   },
   "source": [
    "**QUESTION:** Look at the data, Use the attributes `columns`, `dtypes` and the methods `head`, `describe`, to get a feeling of the data.\n",
    "\n",
    "- This dataset is supposed to report all given names used\n",
    "for either sex during a year in France since 1900\n",
    "\n",
    "- The file is made of `652 056` lines and  4 columns.\n",
    "\n",
    "```\n",
    "|-- preusuel : object\n",
    "|-- nombre: int64\n",
    "|-- sexe: int64\n",
    "|-- annais: object\n",
    "```\n",
    "\n",
    "Each row indicates for a given `preusuel` (prénom usuel, given name), `sexe` (sex), and `annais` (année naissance, birthyear) the `nombre` (number) of babies of the given sex who were given that name during the given year.\n",
    "\n",
    "|sexe    |preusuel     | annais|   nombre|\n",
    "|:------|:--------|----:|---:|\n",
    "|2     |SYLVETTE | 1953| 577|\n",
    "|1   |BOUBOU   | 1979|   4|\n",
    "|1   |NILS     | 1959|   3|\n",
    "|2   |NICOLE   | 2003|  36|\n",
    "|1   |JOSÉLITO | 2013|   4|\n",
    "\n",
    "\n",
    "**QUESTION:** Compare memory usage and disk space used by data\n",
    "\n",
    "**Hints:**\n",
    "\n",
    "- The method `info`  prints a concise summary of a `DataFrame`.\n",
    "- With optional parameter `memory_usage`, you can get an estimate\n",
    "of the amount of memory used by the `DataFrame`.\n",
    "- Beware that the resulting estimate depends on the argument fed."
   ]
  },
  {
   "cell_type": "code",
   "execution_count": null,
   "metadata": {},
   "outputs": [],
   "source": [
    "# Use the attributes columns, dtypes and the methods head, describe, to get a feeling of the data\n",
    "# for french data:\n",
    "print(french_df.columns)\n",
    "print(\"--------------------------------------------------\")\n",
    "print(french_df.dtypes)\n",
    "print(\"--------------------------------------------------\")\n",
    "print(french_df.head())\n",
    "print(\"--------------------------------------------------\")\n",
    "print(french_df.describe())"
   ]
  },
  {
   "cell_type": "code",
   "execution_count": null,
   "metadata": {},
   "outputs": [],
   "source": [
    "# for US data:\n",
    "print(USA_df.columns)\n",
    "print(\"--------------------------------------------------\")\n",
    "print(USA_df.dtypes)\n",
    "print(\"--------------------------------------------------\")\n",
    "print(USA_df.head())\n",
    "print(\"--------------------------------------------------\")\n",
    "print(USA_df.describe())"
   ]
  },
  {
   "cell_type": "code",
   "execution_count": null,
   "metadata": {
    "ExecuteTime": {
     "end_time": "2021-02-03T09:42:59.360455Z",
     "start_time": "2021-02-03T09:42:59.357825Z"
    },
    "jupyter": {
     "outputs_hidden": false,
     "source_hidden": false
    },
    "nteract": {
     "transient": {
      "deleting": false
     }
    }
   },
   "outputs": [],
   "source": [
    "# Compare memory usage and disk space used by data\n",
    "# your code here\n",
    "# for french data\n",
    "print(french_df.info())\n",
    "print(\"******************\")\n",
    "# memory usage of the data\n",
    "print(\"memory usage:\")\n",
    "print(french_df.memory_usage(deep=True))\n",
    "print(\"******************\")\n",
    "# disk usage of the data\n",
    "print(\"disk uage:\")\n",
    "print(french_df.size)\n"
   ]
  },
  {
   "cell_type": "code",
   "execution_count": null,
   "metadata": {},
   "outputs": [],
   "source": [
    "# for US data\n",
    "print(USA_df.info())\n",
    "print(\"******************\")\n",
    "# memory usage of the data\n",
    "print(\"memory usage:\")\n",
    "print(USA_df.memory_usage(deep=True))\n",
    "print(\"******************\")\n",
    "# disk usage of the data\n",
    "print(\"disk uage:\")\n",
    "print(USA_df.size)"
   ]
  },
  {
   "cell_type": "markdown",
   "metadata": {
    "nteract": {
     "transient": {
      "deleting": false
     }
    }
   },
   "source": [
    "**QUESTION:** Display the output of `.describe()` with style."
   ]
  },
  {
   "cell_type": "code",
   "execution_count": null,
   "metadata": {
    "ExecuteTime": {
     "end_time": "2021-02-03T09:43:01.043175Z",
     "start_time": "2021-02-03T09:43:01.040595Z"
    },
    "jupyter": {
     "outputs_hidden": false,
     "source_hidden": false
    },
    "nteract": {
     "transient": {
      "deleting": false
     }
    }
   },
   "outputs": [],
   "source": [
    "# your code here\n",
    "# for french data\n",
    "french_df.describe()"
   ]
  },
  {
   "cell_type": "code",
   "execution_count": null,
   "metadata": {},
   "outputs": [],
   "source": [
    "# for US data\n",
    "USA_df.describe()"
   ]
  },
  {
   "cell_type": "markdown",
   "metadata": {
    "nteract": {
     "transient": {
      "deleting": false
     }
    }
   },
   "source": [
    "**QUESTION:** For each column compute the number of distinct values"
   ]
  },
  {
   "cell_type": "code",
   "execution_count": null,
   "metadata": {
    "ExecuteTime": {
     "end_time": "2021-02-03T09:43:01.392240Z",
     "start_time": "2021-02-03T09:43:01.389193Z"
    },
    "jupyter": {
     "outputs_hidden": false,
     "source_hidden": false
    },
    "nteract": {
     "transient": {
      "deleting": false
     }
    }
   },
   "outputs": [],
   "source": [
    "# your code here\n",
    "# for french data\n",
    "print(french_df.nunique())"
   ]
  },
  {
   "cell_type": "code",
   "execution_count": null,
   "metadata": {},
   "outputs": [],
   "source": [
    "# for US data\n",
    "print(USA_df.nunique())"
   ]
  },
  {
   "cell_type": "markdown",
   "metadata": {
    "nteract": {
     "transient": {
      "deleting": false
     }
    }
   },
   "source": [
    "# Transformations\n",
    "\n",
    "## Improving the data types\n",
    "\n",
    "**QUESTION:** Make `sexe` a category with two levels `Female` and `Male`. Call the new column `gender`. Do you see any reason why this factor should be ordered?\n",
    "\n",
    "__Hint:__ Read [Pandas and categorical variables](https://pandas.pydata.org/pandas-docs/stable/user_guide/categorical.html?highlight=category)"
   ]
  },
  {
   "cell_type": "code",
   "execution_count": null,
   "metadata": {
    "ExecuteTime": {
     "end_time": "2021-02-03T09:43:02.947929Z",
     "start_time": "2021-02-03T09:43:02.945259Z"
    },
    "jupyter": {
     "outputs_hidden": false,
     "source_hidden": false
    },
    "nteract": {
     "transient": {
      "deleting": false
     }
    }
   },
   "outputs": [],
   "source": [
    "# your code here\n",
    "french_df['gender'] = french_df['sexe'].replace([1, 2],\n",
    "                        ['Male', 'Female'])\n",
    "french_df"
   ]
  },
  {
   "cell_type": "markdown",
   "metadata": {
    "nteract": {
     "transient": {
      "deleting": false
     }
    }
   },
   "source": [
    "**QUESTION:** Compare memory usage of columns `sexe` and `gender`"
   ]
  },
  {
   "cell_type": "code",
   "execution_count": null,
   "metadata": {
    "jupyter": {
     "outputs_hidden": false,
     "source_hidden": false
    },
    "nteract": {
     "transient": {
      "deleting": false
     }
    }
   },
   "outputs": [],
   "source": [
    "# your code here\n",
    "print(french_df['sexe'].memory_usage(deep=True))\n",
    "print(french_df['gender'].memory_usage(deep=True))\n"
   ]
  },
  {
   "cell_type": "markdown",
   "metadata": {},
   "source": [
    "#### We remark that memory usage of gender is greater than memory usage of sexe."
   ]
  },
  {
   "cell_type": "markdown",
   "metadata": {
    "nteract": {
     "transient": {
      "deleting": false
     }
    }
   },
   "source": [
    "**QUESTION:** Would it be more memory-efficient to recode `sexe` using modalities `F` and `M` instead of `Male` and `Female` ?"
   ]
  },
  {
   "cell_type": "code",
   "execution_count": null,
   "metadata": {},
   "outputs": [],
   "source": [
    "french_df['gender'] = french_df['sexe'].replace([1, 2], ['M', 'F'])\n",
    "french_df\n",
    "\n",
    "print(french_df['sexe'].memory_usage(deep=True))\n",
    "print(french_df['gender'].memory_usage(deep=True))"
   ]
  },
  {
   "cell_type": "markdown",
   "metadata": {
    "nteract": {
     "transient": {
      "deleting": false
     }
    }
   },
   "source": [
    "_Insert your answer here_\n",
    "#### If we replace Male by 'M' and Female by 'F', it reduces the memory usage of gender which is steal greater than the memory usage of sexe.\n"
   ]
  },
  {
   "cell_type": "markdown",
   "metadata": {},
   "source": []
  },
  {
   "cell_type": "markdown",
   "metadata": {
    "nteract": {
     "transient": {
      "deleting": false
     }
    }
   },
   "source": [
    "## Dealing with missing values\n",
    "\n",
    "**QUESTION:** Variable `annais` class is `object`. Make `annais` of type `float`. Note that missing years are encoded as \"XXXX\", find a way to deal with that.\n",
    "\n",
    "__Hint:__  As of releasing this Homework (2023-01-18), `Pandas` is not very good at managing missing values,\n",
    "see [roadmap](https://pandas.pydata.org/docs/development/roadmap.html). Don't try to convert `annais` into an integer column."
   ]
  },
  {
   "cell_type": "code",
   "execution_count": null,
   "metadata": {
    "jupyter": {
     "outputs_hidden": false,
     "source_hidden": false
    },
    "nteract": {
     "transient": {
      "deleting": false
     }
    }
   },
   "outputs": [],
   "source": [
    "# your code here\n",
    "# remove missing years for french data:\n",
    "french_df1 = french_df.dropna()\n",
    "french_df1[\"annais\"] = french_df1[\"annais\"].astype(float) #convert annais to float\n",
    "#french_df1.info() #french_df1 is the french_df without missing values\n"
   ]
  },
  {
   "cell_type": "code",
   "execution_count": null,
   "metadata": {},
   "outputs": [],
   "source": [
    "# removing missing values from US data:\n",
    "USA_df = USA_df.dropna()\n",
    "USA_df"
   ]
  },
  {
   "cell_type": "code",
   "execution_count": null,
   "metadata": {},
   "outputs": [],
   "source": [
    "# let we verify if we have a missing value\n",
    "french_df1[french_df1[\"annais\"].isna()]\n",
    "#print(french_df)\n",
    "french_df"
   ]
  },
  {
   "cell_type": "markdown",
   "metadata": {
    "nteract": {
     "transient": {
      "deleting": false
     }
    }
   },
   "source": [
    "## Rename and remove columns"
   ]
  },
  {
   "cell_type": "markdown",
   "metadata": {
    "nteract": {
     "transient": {
      "deleting": false
     }
    }
   },
   "source": [
    "**QUESTION:** Remove useless columns (now that you've created new ones, and rename them). You should end up with a dataframe with columns called `\"gender\"`, `\"year\"`, `\"count\"`, `\"firstname`\" with the following dtypes:\n",
    "\n",
    "```python\n",
    "gender        category\n",
    "firstname     object\n",
    "count         int64\n",
    "year          float64\n",
    "```"
   ]
  },
  {
   "cell_type": "code",
   "execution_count": null,
   "metadata": {
    "jupyter": {
     "outputs_hidden": false,
     "source_hidden": false
    },
    "nteract": {
     "transient": {
      "deleting": false
     }
    }
   },
   "outputs": [],
   "source": [
    "# your code \n",
    "french_data = french_df1[['preusuel', 'gender', 'nombre', 'annais' ]]\n",
    "\n",
    "french_data = french_data.rename(columns={'preusuel': 'firstname',\n",
    "                                          'annais':'year','nombre':'count','gender':'gender'})\n",
    "french_data.info()\n",
    "french_data"
   ]
  },
  {
   "cell_type": "markdown",
   "metadata": {},
   "source": [
    "**Question:** Do the same thing for British and US data. You should eventually obtain dataframes with the same schema.  "
   ]
  },
  {
   "cell_type": "code",
   "execution_count": null,
   "metadata": {},
   "outputs": [],
   "source": [
    "# for US data\n",
    "USA_df.dtypes"
   ]
  },
  {
   "cell_type": "markdown",
   "metadata": {
    "nteract": {
     "transient": {
      "deleting": false
     }
    }
   },
   "source": [
    "**QUESTION:** How many missing values (NA) have been introduced? How many births are concerned?"
   ]
  },
  {
   "cell_type": "code",
   "execution_count": null,
   "metadata": {
    "ExecuteTime": {
     "end_time": "2021-02-03T09:58:42.294646Z",
     "start_time": "2021-02-03T09:58:42.289319Z"
    },
    "jupyter": {
     "outputs_hidden": false,
     "source_hidden": false
    },
    "nteract": {
     "transient": {
      "deleting": false
     }
    }
   },
   "outputs": [],
   "source": [
    "# your code here\n",
    "# for french data\n",
    "french_df.isna().sum()"
   ]
  },
  {
   "cell_type": "code",
   "execution_count": null,
   "metadata": {},
   "outputs": [],
   "source": [
    "# for US data:\n",
    "USA_df.isna().sum()"
   ]
  },
  {
   "cell_type": "markdown",
   "metadata": {
    "nteract": {
     "transient": {
      "deleting": false
     }
    }
   },
   "source": [
    "**QUESTION:** Read the documentation and describe the origin of rows containing the missing values."
   ]
  },
  {
   "cell_type": "code",
   "execution_count": null,
   "metadata": {
    "ExecuteTime": {
     "end_time": "2021-02-03T09:58:42.780105Z",
     "start_time": "2021-02-03T09:58:42.777162Z"
    },
    "jupyter": {
     "outputs_hidden": false,
     "source_hidden": false
    },
    "nteract": {
     "transient": {
      "deleting": false
     }
    }
   },
   "outputs": [],
   "source": [
    "# your code here\n"
   ]
  },
  {
   "cell_type": "markdown",
   "metadata": {
    "nteract": {
     "transient": {
      "deleting": false
     }
    }
   },
   "source": [
    "## Checkpointing: save your transformed dataframes"
   ]
  },
  {
   "cell_type": "markdown",
   "metadata": {
    "nteract": {
     "transient": {
      "deleting": false
     }
    }
   },
   "source": [
    "**QUESTION:** Save the transformed dataframe (retyped and renamed) to `./nat2021_csv.zip`. Try several compression methods."
   ]
  },
  {
   "cell_type": "code",
   "execution_count": null,
   "metadata": {
    "ExecuteTime": {
     "end_time": "2021-02-03T09:58:44.434007Z",
     "start_time": "2021-02-03T09:58:44.431292Z"
    },
    "jupyter": {
     "outputs_hidden": false,
     "source_hidden": false
    },
    "nteract": {
     "transient": {
      "deleting": false
     }
    }
   },
   "outputs": [],
   "source": [
    "# your code here\n",
    "# for french data\n",
    "french_data.to_csv(\"nat2021_csv.zip\", \n",
    "           index=False, \n",
    "           compression=\"zip\")"
   ]
  },
  {
   "cell_type": "code",
   "execution_count": null,
   "metadata": {},
   "outputs": [],
   "source": [
    "# for US data\n",
    "USA_df.to_csv(\"names_csv.zip\",\n",
    "             index = False,\n",
    "             compression = \"zip\")"
   ]
  },
  {
   "cell_type": "markdown",
   "metadata": {
    "nteract": {
     "transient": {
      "deleting": false
     }
    }
   },
   "source": [
    "**QUESTION:** Save the transformed dataframes (retyped and renamed) to `./nat2021.hdf` using `.hdf` format"
   ]
  },
  {
   "cell_type": "code",
   "execution_count": null,
   "metadata": {
    "ExecuteTime": {
     "end_time": "2021-02-03T09:58:45.572214Z",
     "start_time": "2021-02-03T09:58:45.569040Z"
    },
    "jupyter": {
     "outputs_hidden": false,
     "source_hidden": false
    },
    "nteract": {
     "transient": {
      "deleting": false
     }
    }
   },
   "outputs": [],
   "source": [
    "# your code here\n",
    "# for french data\n",
    "french_data.to_hdf(\"nat2021_csv.hdf\", \n",
    "          key = \"french_data\")\n"
   ]
  },
  {
   "cell_type": "code",
   "execution_count": null,
   "metadata": {},
   "outputs": [],
   "source": [
    "# for US data\n",
    "USA_df.to_hdf(\"names_csv.hdf\", \n",
    "          key = \"USA_df\")"
   ]
  },
  {
   "cell_type": "markdown",
   "metadata": {
    "nteract": {
     "transient": {
      "deleting": false
     }
    }
   },
   "source": [
    "At that point your working directory should look like:\n",
    "\n",
    "```\n",
    "├── homework01.py      # if you use `jupytext`\n",
    "|── homework01.qmd     # if you use `quarto`\n",
    "├── homework01.ipynb   # if you use `jupyter` `notebook`\n",
    "├── babies-fr.hdf\n",
    "├── babies-fr.zip\n",
    "├── babies-us.hdf\n",
    "├── babies-us.zip\n",
    "├── babies-ew.hdf\n",
    "├── babies-ew.zip\n",
    "├── births-fr.csv\n",
    "├── births-fr.hdf\n",
    "```\n",
    "\n",
    "**QUESTION:** Reload the data using `read_hdf(...)` so that the resulting dataframes  are properly typed with meaningful and homogeneous column names.\n",
    "\n",
    "__Hint:__ use `try: ... except` to handle exceptions such as `FileNotFoundError`"
   ]
  },
  {
   "cell_type": "code",
   "execution_count": null,
   "metadata": {
    "ExecuteTime": {
     "end_time": "2021-02-03T09:58:49.413972Z",
     "start_time": "2021-02-03T09:58:49.410965Z"
    },
    "jupyter": {
     "outputs_hidden": false,
     "source_hidden": false
    },
    "nteract": {
     "transient": {
      "deleting": false
     }
    }
   },
   "outputs": [],
   "source": [
    "# your code here\n",
    "# for french data\n",
    "try:\n",
    "    french_data_hdf = pd.read_hdf(\"nat2021_csv.hdf\")\n",
    "except  FileNotFoundError:\n",
    "    print(\"the file is not found\")\n",
    "    \n",
    "french_data_hdf"
   ]
  },
  {
   "cell_type": "code",
   "execution_count": null,
   "metadata": {},
   "outputs": [],
   "source": [
    "# for US data\n",
    "try:\n",
    "    USA_df_hdf = pd.read_hdf(\"names_csv.hdf\")\n",
    "except  FileNotFoundError:\n",
    "    print(\"the file is not found\")\n",
    "    \n",
    "USA_df_hdf"
   ]
  },
  {
   "cell_type": "markdown",
   "metadata": {
    "nteract": {
     "transient": {
      "deleting": false
     }
    }
   },
   "source": [
    "## Some data \"analytics\" and visualization\n",
    "\n",
    "**QUESTION**: For each year, compute the total number of Female and Male births and the proportion of Female  births among total births\n",
    "\n",
    "__Hints:__\n",
    "\n",
    "- Groupby operations using several columns for the groups return a dataframe with a `MultiIndex` index see [Pandas advanced](https://pandas.pydata.org/pandas-docs/stable/user_guide/advanced.html)\n",
    "\n",
    "- Have a look at `MultiIndex`, `reset_index`, `pivot`, `columns.droplevel`"
   ]
  },
  {
   "cell_type": "code",
   "execution_count": null,
   "metadata": {
    "ExecuteTime": {
     "end_time": "2021-02-03T09:58:52.268127Z",
     "start_time": "2021-02-03T09:58:52.265556Z"
    },
    "jupyter": {
     "outputs_hidden": false,
     "source_hidden": false
    },
    "nteract": {
     "transient": {
      "deleting": false
     }
    }
   },
   "outputs": [],
   "source": [
    "# your code here\n",
    "# For each year, compute the total number of Female and Male births\n",
    "# for french data\n",
    "french_temp_df = french_data_hdf[[\"year\", \"count\", \"gender\"]]\n",
    "french_temp_df = french_temp_df.groupby([\"year\",\"gender\"]).apply(lambda x : x[\"count\"].sum())\n",
    "french_temp_df"
   ]
  },
  {
   "cell_type": "code",
   "execution_count": null,
   "metadata": {},
   "outputs": [],
   "source": [
    "# for each year, compute the total number of female and male births\n",
    "# for US data\n",
    "USA_temp_df = USA_df_hdf[[\"year\", \"count\", \"gender\"]]\n",
    "USA_temp_df = USA_temp_df.groupby([\"year\",\"gender\"]).apply(lambda x : x[\"count\"].sum())\n",
    "USA_temp_df"
   ]
  },
  {
   "cell_type": "code",
   "execution_count": null,
   "metadata": {},
   "outputs": [],
   "source": [
    "# proportion of female births among total births:\n",
    "# for french data\n",
    "mindex = french_temp_df.index\n",
    "french_temp_df = pd.DataFrame(french_temp_df, columns=['count'], index=mindex)\n",
    "french_df_male = french_temp_df.xs('M', level='gender')\n",
    "french_df_female = french_temp_df.xs('F', level='gender')\n",
    "\n",
    "french_data_proportion=pd.DataFrame({'year' : french_df_male.index, \n",
    "                        'count_male' :french_df_male[\"count\"],\n",
    "                        'count_female': french_df_female[\"count\"],\n",
    "                        'proportion_female': french_df_female[\"count\"]/\n",
    "                                     (french_df_female[\"count\"] + french_df_male[\"count\"])\n",
    "                                    })\n",
    "french_data_proportion\n"
   ]
  },
  {
   "cell_type": "code",
   "execution_count": null,
   "metadata": {},
   "outputs": [],
   "source": [
    "# for US data\n",
    "mindex = USA_temp_df.index\n",
    "USA_temp_df = pd.DataFrame(USA_temp_df, columns=['count'], index=mindex)\n",
    "USA_df_male = USA_temp_df.xs('M', level='gender')\n",
    "USA_df_female = USA_temp_df.xs('F', level='gender')\n",
    "\n",
    "USA_data_proportion=pd.DataFrame({'year' : USA_df_male.index, \n",
    "                        'count_male' :USA_df_male[\"count\"],\n",
    "                        'count_female': USA_df_female[\"count\"],\n",
    "                        'proportion_female': USA_df_female[\"count\"]/\n",
    "                                     (USA_df_female[\"count\"] + USA_df_male[\"count\"])\n",
    "                                    })\n",
    "USA_data_proportion"
   ]
  },
  {
   "cell_type": "markdown",
   "metadata": {
    "nteract": {
     "transient": {
      "deleting": false
     }
    }
   },
   "source": [
    "**QUESTION:** Plot the proportion of female births as a function of year and French, US, en British babynames data. Compare with what you get from `births-fr.hdf`.\n",
    "\n",
    "Don't forget: title, axes labels, ticks, scales, etc.\n",
    "\n",
    "Because of what we did before, the `plot` method of a `DataFrame` with be rendered using `plotly`, so you can use this. But you can use also `seaborn` or any other available plotting library that you want.\n",
    "\n",
    "__Hint:__ Mind the missing values in the `year` column"
   ]
  },
  {
   "cell_type": "code",
   "execution_count": null,
   "metadata": {
    "jupyter": {
     "outputs_hidden": false,
     "source_hidden": false
    },
    "nteract": {
     "transient": {
      "deleting": false
     }
    }
   },
   "outputs": [],
   "source": [
    "# your code here\n",
    "# Plot the proportion of female births as a function of year for French data\n",
    "import matplotlib.pyplot as plt\n",
    "import seaborn as sns\n",
    "\n",
    "sns.set(style=\"darkgrid\")\n",
    "plt.plot(french_data_proportion.year, french_data_proportion.proportion_female)\n",
    "\n",
    "plt.ylabel(\"proportion_female\", fontsize=12)\n",
    "plt.xlabel(\"year\", fontsize=12)\n",
    "plt.legend(labels = ['proportion'], loc ='upper right')\n",
    "plt.title('French Female Proportion')\n",
    "\n"
   ]
  },
  {
   "cell_type": "code",
   "execution_count": null,
   "metadata": {},
   "outputs": [],
   "source": [
    "# Plot the proportion of female births as a function of year for US data\n",
    "import matplotlib.pyplot as plt\n",
    "import seaborn as sns\n",
    "plt.plot(USA_data_proportion.year, USA_data_proportion.proportion_female)\n",
    "\n",
    "sns.set(style=\"darkgrid\")\n",
    "plt.ylabel(\"proportion_female\", fontsize=12)\n",
    "plt.xlabel(\"year\", fontsize=12)\n",
    "plt.legend(labels = ['proportion'], loc ='upper right')\n",
    "plt.title('US Female Proportion')\n"
   ]
  },
  {
   "cell_type": "markdown",
   "metadata": {
    "nteract": {
     "transient": {
      "deleting": false
     }
    }
   },
   "source": [
    "**QUESTION:** Make any sensible comment about these plots.\n",
    "\n",
    "_Insert your answer here_\n",
    "\n",
    "> ..."
   ]
  },
  {
   "cell_type": "markdown",
   "metadata": {},
   "source": []
  },
  {
   "cell_type": "markdown",
   "metadata": {
    "nteract": {
     "transient": {
      "deleting": false
     }
    }
   },
   "source": [
    "**QUESTION:** Explore the fluctuations of sex ratio around its mean value since 1945  in the US, in France and in the Great Britain.\n",
    "\n",
    "Plot deviations of sex ratio around its mean since 1945 as a function of time."
   ]
  },
  {
   "cell_type": "code",
   "execution_count": null,
   "metadata": {
    "ExecuteTime": {
     "end_time": "2021-02-03T09:59:30.923060Z",
     "start_time": "2021-02-03T09:59:30.920458Z"
    },
    "jupyter": {
     "outputs_hidden": false,
     "source_hidden": false
    },
    "nteract": {
     "transient": {
      "deleting": false
     }
    }
   },
   "outputs": [],
   "source": [
    "# your code here\n",
    "# For French Data\n",
    "\n",
    "#french_temp_df\n",
    "std_french = french_data[french_data['year'] >= 1945]\n",
    "std_french_Male = std_french[std_french['gender'] == 'M']\n",
    "std_french_Male = std_french_Male[['year', 'count']]\n",
    "M_mean = std_french_Male['count'].mean()\n",
    "std_french_Male['count'] = std_french_Male['count'].apply(lambda x : np.abs(x - M_mean ))\n",
    "std_french_Female = std_french[std_french['gender'] == 'F']\n",
    "F_mean = std_french_Female['count'].mean()\n",
    "std_french_Female['count'] = std_french_Female['count'].apply(lambda x : np.abs(x - F_mean))\n",
    "\n",
    "std_french_Male['count'].max()"
   ]
  },
  {
   "cell_type": "code",
   "execution_count": null,
   "metadata": {},
   "outputs": [],
   "source": [
    "import matplotlib.pyplot as plt\n",
    "import seaborn as sns\n",
    "\n",
    "#plt.plot(std_french_Male['year'], std_french_Male['count'])\n",
    "\n",
    "sns.set(style=\"darkgrid\")\n",
    "plt.ylabel(\"French Male Difference with the Mean\", fontsize=12)\n",
    "plt.xlabel(\"year\", fontsize=12)\n",
    "plt.legend(labels = ['Difference'], loc ='upper right')\n"
   ]
  },
  {
   "cell_type": "code",
   "execution_count": null,
   "metadata": {},
   "outputs": [],
   "source": []
  },
  {
   "cell_type": "code",
   "execution_count": null,
   "metadata": {},
   "outputs": [],
   "source": [
    "# your code here\n",
    "# For US Data\n"
   ]
  },
  {
   "cell_type": "markdown",
   "metadata": {},
   "source": [
    "**QUESTION:**  Assume that baby gender is chosen at random according to a Bernoulli distribution with success probability $.48$, that baby genders are i.i.d. Perform simulations for sex ratios for French and US data since 1945. \n",
    "\n",
    "Plot the results, compare with your plots above.  "
   ]
  },
  {
   "cell_type": "code",
   "execution_count": null,
   "metadata": {},
   "outputs": [],
   "source": [
    "female_Ber = np.random.binomial(1, 0.48, len(french_df1))\n",
    "plt.plot(french_data['year'], female_Ber)"
   ]
  },
  {
   "cell_type": "markdown",
   "metadata": {
    "nteract": {
     "transient": {
      "deleting": false
     }
    }
   },
   "source": [
    "# The rise, decline and fall of firstnames"
   ]
  },
  {
   "cell_type": "markdown",
   "metadata": {},
   "source": [
    "**Question:** For each year, country, gender and firstname, compute the popularity rank of the firstname among the names given to babies with that gender, in that country, in that year. The most popular name should be given rank $1$.  "
   ]
  },
  {
   "cell_type": "markdown",
   "metadata": {},
   "source": [
    "\n",
    "**QUESTION:** For each firstname and sex (some names may be given to girls and boys), compute the total number of times this firstname has been given during `1900-2019`. Print the top 20 firstnames given and style your result dataframe using `background_gradient` for instance."
   ]
  },
  {
   "cell_type": "code",
   "execution_count": null,
   "metadata": {
    "jupyter": {
     "outputs_hidden": false,
     "source_hidden": false
    },
    "nteract": {
     "transient": {
      "deleting": false
     }
    }
   },
   "outputs": [],
   "source": [
    "# your code here\n"
   ]
  },
  {
   "cell_type": "markdown",
   "metadata": {
    "nteract": {
     "transient": {
      "deleting": false
     }
    }
   },
   "source": [
    "## Rare firstnames\n",
    "\n",
    "**QUESTION:** In the French data, for each sex, plot the proportion of births given `_PRENOMS_RARES` as a function of the year."
   ]
  },
  {
   "cell_type": "code",
   "execution_count": null,
   "metadata": {
    "jupyter": {
     "outputs_hidden": false,
     "source_hidden": false
    },
    "nteract": {
     "transient": {
      "deleting": false
     }
    }
   },
   "outputs": [],
   "source": [
    "# your code here\n",
    "french_rare = french_data[ french_data['firstname'] == '_PRENOMS_RARES']\n",
    "french_rare = french_rare[['year', 'gender', 'count']]\n",
    "french_rare = french_rare.groupby(['year', 'gender']).apply(lambda x :x['count'].sum())\n",
    "rare_index = french_rare.index\n",
    "french_rare_count = pd.DataFrame(french_rare, columns=['count'], index=rare_index)\n",
    "df_male = french_rare_count.xs('M', level='gender')\n",
    "df_female = french_rare_count.xs('F', level='gender')\n",
    "\n",
    "data = pd.DataFrame({'year' : df_male.index, \n",
    "                    'count_male' :df_male['count'],\n",
    "                    'count_female': df_female['count'], \n",
    "                    'proportion_female':df_female['count']/df_female['count'].sum(), \n",
    "                    'proportion_male':df_male['count']/df_male['count'].sum()} )\n",
    "data =data.drop(\"year\", axis =1).reset_index()\n",
    "plt.plot(data.year, data.proportion_male)\n",
    "plt.plot(data.year, data.proportion_female)\n",
    "plt.legend(labels = ['Male Rare', 'Female Rare' ])\n",
    "\n"
   ]
  },
  {
   "cell_type": "markdown",
   "metadata": {
    "nteract": {
     "transient": {
      "deleting": false
     }
    }
   },
   "source": [
    "# A study of the \"Marie\" firstname\n",
    "\n",
    "**QUESTION:** Plot the proportion of female births given name `'MARIE'` or `'MARIE-...'` (compounded names) as a function of the year.\n",
    "Proceed in such a way that the reader can see the share of compounded names. We are expecting an _area plot_.\n",
    "\n",
    "__Hints:__\n",
    "\n",
    "- Have a look at the `.str` accessor (to apply a string method over a whole column containing string)\n",
    "- Have a look at [r-graph-gallery: stacked area](https://www.r-graph-gallery.com/stacked-area-graph.html)  and\n",
    "at [ggplot documentation](https://ggplot2.tidyverse.org/reference/geom_ribbon.html). Pay attention on the way you stack the area corresponding to names matching pattern 'MARIE-.*' over or under the are corresponding to babies named 'MARIE'\n",
    "- See Graphique 3, page 48, de _L'archipel français_  de J. Fourquet. Le Seuil. Essais. Vol. 898.\n",
    "\n",
    "- Add annotation, 1st World War, Front Populaire, 2nd World War, 1968"
   ]
  },
  {
   "cell_type": "code",
   "execution_count": null,
   "metadata": {
    "ExecuteTime": {
     "end_time": "2021-02-03T10:00:15.046715Z",
     "start_time": "2021-02-03T10:00:15.043807Z"
    },
    "jupyter": {
     "outputs_hidden": false,
     "source_hidden": false
    },
    "nteract": {
     "transient": {
      "deleting": false
     }
    }
   },
   "outputs": [],
   "source": [
    "# your code here\n",
    "_marie = french_data[french_data['firstname']== 'MARIE' ]\n",
    "\n",
    "d_marie = _marie[['year', 'gender', 'count']].groupby(['year','gender']).apply(lambda x :x['count'].sum())\n",
    "d_marie = d_marie.xs('F',level = 'gender')\n",
    "data =pd.DataFrame({'year' : d_marie.index, 'marie' : d_marie,'pro': d_marie/d_marie.sum()} )\n",
    "data\n",
    "plt.plot(data.year, data.pro)"
   ]
  },
  {
   "cell_type": "markdown",
   "metadata": {
    "nteract": {
     "transient": {
      "deleting": false
     }
    }
   },
   "source": [
    "# Top 10 firstnames of year 2000\n",
    "\n",
    "**QUESTION:** For each sex, select the ten most popular names in year 2000, and plot the proportion\n",
    "of newborns given that name over time. Take into account that some names might have\n",
    "zero occurrence during certain years.\n",
    "\n",
    "__Hint:__ Leave aside the rows with '_PRENOMS_RARES'."
   ]
  },
  {
   "cell_type": "code",
   "execution_count": null,
   "metadata": {
    "ExecuteTime": {
     "end_time": "2021-02-03T10:00:21.360489Z",
     "start_time": "2021-02-03T10:00:21.357427Z"
    },
    "jupyter": {
     "outputs_hidden": false,
     "source_hidden": false
    },
    "nteract": {
     "transient": {
      "deleting": false
     }
    }
   },
   "outputs": [],
   "source": [
    "# your code here\n"
   ]
  },
  {
   "cell_type": "markdown",
   "metadata": {},
   "source": [
    "# Picturing concentration of babynames distributions"
   ]
  },
  {
   "cell_type": "markdown",
   "metadata": {},
   "source": [
    "\n",
    "Every year, the name counts define a discrete probability distribution over the set of names (the universe).\n",
    "\n",
    "This distribution, just as an income or wealth distribution, is (usually) far from being uniform. We want to assess how uneven it is.\n",
    "\n",
    "We use the tools developed in econometrics.\n",
    "\n",
    "Without loss of generality, we assume that we handle a distribution over positive integers $1, \\ldots, n$ where $n$ is the number of distinct names given during a year.\n",
    "\n",
    "We assume that frequencies $p_1, p_2, \\ldots, p_n$ are given in ascending order, ties are broken arbitrarily.\n",
    "\n",
    "The `Lorenz function` ([Lorenz](https://en.wikipedia.org/wiki/Lorenz_curve) not `Lorentz`) maps $[0, 1] \\to [0, 1]$.\n",
    "\n",
    "$$L(x) = \\sum_{i=1}^{\\lfloor nx \\rfloor} p_i .$$\n",
    "\n",
    "Note that this is a piecewise constant function. \n",
    "\n",
    "\n",
    "**Question:** Compute and plot the Lorenz fucntion for a given `sex`, `year` and `country`"
   ]
  },
  {
   "cell_type": "code",
   "execution_count": null,
   "metadata": {},
   "outputs": [],
   "source": [
    "L= 0\n",
    "while k < np.floor(n*x):\n",
    "    L = L + pk\n"
   ]
  },
  {
   "cell_type": "markdown",
   "metadata": {},
   "source": [
    "**Question:** Design an animated plot that shows the evolution of the Lorenz curve of babynames distribution through the years for a given sex and country.\n"
   ]
  },
  {
   "cell_type": "code",
   "execution_count": null,
   "metadata": {},
   "outputs": [],
   "source": []
  },
  {
   "cell_type": "markdown",
   "metadata": {},
   "source": [
    "The Lorenz curve summarizes how far a discrete probability distribution is from the uniform distribution. This is a very rich summary and it is difficult to communicate this message to a wide audience. People tend to favor numerical indices (they don't really understand, but they get used to it): Gini, Atkinson, Theil, ...\n",
    "\n",
    "The [Gini index](https://en.wikipedia.org/wiki/Gini_coefficient) is twice the surface of the area comprised between curves $y=x$ and $y=L(x)$.\n",
    "\n",
    "$$G = 2 \\times \\int_0^1 (x -L(x)) \\mathrm{d}x$$\n",
    "\n",
    "The next formula  allows us to compute it efficiently.\n",
    "\n",
    "$$G={\\frac {2\\sum _{i=1}^{n}i p_{i}}{n\\sum _{i=1}^{n}p_{i}}}-{\\frac {n+1}{n}}.$$\n",
    "\n",
    "\n",
    "**Question:** Compute and plot Gini index of names distribution over time for sex and countries \n"
   ]
  },
  {
   "cell_type": "markdown",
   "metadata": {},
   "source": []
  },
  {
   "cell_type": "code",
   "execution_count": null,
   "metadata": {},
   "outputs": [],
   "source": [
    "   \n",
    "G = 2\n",
    "epsilon = 1e-100\n",
    "ecart = epsilon + 1\n",
    "i = 1\n",
    "n, g, k = 1, 2, 1\n",
    "while ecart > epsilon :\n",
    "    n = n+1\n",
    "    for i in range(n):\n",
    "        g = i*pi + g\n",
    "        k = pi + k\n",
    "    Go = G\n",
    "    G = g/(n*k) - (1+ 1/n)\n",
    "    ecart = np.abs(G - Go)\n"
   ]
  },
  {
   "cell_type": "markdown",
   "metadata": {},
   "source": [
    "# Picturing surges of popularity\n",
    "\n",
    "In the sequel, the *popularity* of a gendered name in a population during a given year is the proportion of babies of that gender born during that year in that country,  that are given this name. \n",
    "\n",
    "**Question:** Prepare a data frame that contains for each hype name the 20 years before and 30 years after the maximum popularity is achieved, and, for each such year, the rank and popularity of the hype name. Do this for US and French data. \n"
   ]
  },
  {
   "cell_type": "code",
   "execution_count": null,
   "metadata": {},
   "outputs": [],
   "source": [
    " "
   ]
  },
  {
   "cell_type": "markdown",
   "metadata": {},
   "source": [
    "**Question:** Plot offseted popularity (share of given names within year, country, gender) curves of hype names. Facet by sex and country. "
   ]
  },
  {
   "cell_type": "markdown",
   "metadata": {},
   "source": []
  },
  {
   "cell_type": "markdown",
   "metadata": {},
   "source": [
    "**Question:** Rescale popularity curves so that all of them have maximum $1$. "
   ]
  },
  {
   "cell_type": "code",
   "execution_count": null,
   "metadata": {},
   "outputs": [],
   "source": []
  },
  {
   "cell_type": "markdown",
   "metadata": {
    "nteract": {
     "transient": {
      "deleting": false
     }
    }
   },
   "source": [
    "# Getting help\n",
    "\n",
    "- [pandas](https://pandas.pydata.org/pandas-docs/stable/reference/)\n",
    "\n",
    "- [plotly](https://plotly.com/python/) for animated plots\n",
    "\n",
    "- [stackoverflow](https://stackoverflow.com)\n",
    "\n",
    "- [stackoverflow: pandas](https://stackoverflow.com/questions/tagged/pandas)\n",
    "\n",
    "- [stackoverflow: plotly+python](https://stackoverflow.com/questions/tagged/plotly+python)\n",
    "\n",
    "- The US `babynames` analogue of the INSEE file has been a playground for data scientists,\n",
    " see [https://github.com/hadley/babynames](https://github.com/hadley/babynames)\n",
    "\n",
    "- Don't Repeat Yourself (DRY) principle  at [Wikipedia](https://en.wikipedia.org/wiki/Don%27t_repeat_yourself)"
   ]
  }
 ],
 "metadata": {
  "kernelspec": {
   "display_name": "Python 3 (ipykernel)",
   "language": "python",
   "name": "python3"
  },
  "language_info": {
   "codemirror_mode": {
    "name": "ipython",
    "version": 3
   },
   "file_extension": ".py",
   "mimetype": "text/x-python",
   "name": "python",
   "nbconvert_exporter": "python",
   "pygments_lexer": "ipython3",
   "version": "3.9.13"
  },
  "toc": {
   "base_numbering": 1,
   "nav_menu": {},
   "number_sections": true,
   "sideBar": true,
   "skip_h1_title": false,
   "title_cell": "Table of Contents",
   "title_sidebar": "Contents",
   "toc_cell": false,
   "toc_position": {},
   "toc_section_display": true,
   "toc_window_display": true
  },
  "vscode": {
   "interpreter": {
    "hash": "6795c53a464863a7af04e484d197ab81636f962540f300a02661ac97b978f019"
   }
  }
 },
 "nbformat": 4,
 "nbformat_minor": 1
}
